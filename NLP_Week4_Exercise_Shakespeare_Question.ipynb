{
  "nbformat": 4,
  "nbformat_minor": 0,
  "metadata": {
    "accelerator": "GPU",
    "colab": {
      "name": "NLP_Week4_Exercise_Shakespeare_Question.ipynb",
      "provenance": [],
      "toc_visible": true
    },
    "kernelspec": {
      "display_name": "Python 3",
      "name": "python3"
    }
  },
  "cells": [
    {
      "cell_type": "code",
      "metadata": {
        "id": "zX4Kg8DUTKWO"
      },
      "source": [
        "#@title Licensed under the Apache License, Version 2.0 (the \"License\");\n",
        "# you may not use this file except in compliance with the License.\n",
        "# You may obtain a copy of the License at\n",
        "#\n",
        "# https://www.apache.org/licenses/LICENSE-2.0\n",
        "#\n",
        "# Unless required by applicable law or agreed to in writing, software\n",
        "# distributed under the License is distributed on an \"AS IS\" BASIS,\n",
        "# WITHOUT WARRANTIES OR CONDITIONS OF ANY KIND, either express or implied.\n",
        "# See the License for the specific language governing permissions and\n",
        "# limitations under the License."
      ],
      "execution_count": null,
      "outputs": []
    },
    {
      "cell_type": "code",
      "metadata": {
        "id": "BOwsuGQQY9OL"
      },
      "source": [
        "from tensorflow.keras.preprocessing.sequence import pad_sequences\n",
        "from tensorflow.keras.layers import Embedding, LSTM, Dense, Dropout, Bidirectional\n",
        "from tensorflow.keras.preprocessing.text import Tokenizer\n",
        "from tensorflow.keras.models import Sequential\n",
        "from tensorflow.keras.optimizers import Adam\n",
        "from tensorflow.keras import regularizers\n",
        "\n",
        "import tensorflow.keras.utils as ku \n",
        "import numpy as np "
      ],
      "execution_count": 3,
      "outputs": []
    },
    {
      "cell_type": "code",
      "metadata": {
        "colab": {
          "base_uri": "https://localhost:8080/"
        },
        "id": "PRnDnCW-Z7qv",
        "outputId": "eb902737-e57d-479e-89bb-3b2770944003"
      },
      "source": [
        "tokenizer = Tokenizer()\n",
        "!wget --no-check-certificate \\\n",
        "    https://storage.googleapis.com/laurencemoroney-blog.appspot.com/sonnets.txt \\\n",
        "    -O /tmp/sonnets.txt\n",
        "data = open('/tmp/sonnets.txt').read()\n",
        "\n",
        "corpus = data.lower().split(\"\\n\")\n",
        "\n",
        "\n",
        "tokenizer.fit_on_texts(corpus)\n",
        "total_words = len(tokenizer.word_index) + 1\n",
        "\n",
        "# create input sequences using list of tokens\n",
        "input_sequences = []\n",
        "for line in corpus:\n",
        "\ttoken_list = tokenizer.texts_to_sequences([line])[0]\n",
        "\tfor i in range(1, len(token_list)):\n",
        "\t\tn_gram_sequence = token_list[:i+1]\n",
        "\t\tinput_sequences.append(n_gram_sequence)\n",
        "\n",
        "\n",
        "# pad sequences \n",
        "max_sequence_len = max([len(x) for x in input_sequences])\n",
        "input_sequences = np.array(pad_sequences(input_sequences, maxlen=max_sequence_len, padding='pre'))\n",
        "\n",
        "# create predictors and label\n",
        "predictors, label = input_sequences[:,:-1],input_sequences[:,-1]\n",
        "\n",
        "label = ku.to_categorical(label, num_classes=total_words)"
      ],
      "execution_count": 4,
      "outputs": [
        {
          "output_type": "stream",
          "text": [
            "--2021-04-16 05:02:19--  https://storage.googleapis.com/laurencemoroney-blog.appspot.com/sonnets.txt\n",
            "Resolving storage.googleapis.com (storage.googleapis.com)... 173.194.213.128, 173.194.215.128, 173.194.216.128, ...\n",
            "Connecting to storage.googleapis.com (storage.googleapis.com)|173.194.213.128|:443... connected.\n",
            "HTTP request sent, awaiting response... 200 OK\n",
            "Length: 93578 (91K) [text/plain]\n",
            "Saving to: ‘/tmp/sonnets.txt’\n",
            "\n",
            "\r/tmp/sonnets.txt      0%[                    ]       0  --.-KB/s               \r/tmp/sonnets.txt    100%[===================>]  91.38K  --.-KB/s    in 0.001s  \n",
            "\n",
            "2021-04-16 05:02:19 (119 MB/s) - ‘/tmp/sonnets.txt’ saved [93578/93578]\n",
            "\n"
          ],
          "name": "stdout"
        }
      ]
    },
    {
      "cell_type": "code",
      "metadata": {
        "colab": {
          "base_uri": "https://localhost:8080/"
        },
        "id": "w9vH8Y59ajYL",
        "outputId": "2011fb3c-232e-4287-d6ee-d88bb6baff19"
      },
      "source": [
        "model = Sequential()\n",
        "model.add(Embedding(total_words, 64, input_length=max_sequence_len-1))\n",
        "model.add(Bidirectional(LSTM(150, return_sequences=True)))\n",
        "model.add(Dropout(0.2))\n",
        "model.add(LSTM(150))\n",
        "model.add(Dense(16, activation='relu', kernel_regularizer=regularizers.L2(0.01)))\n",
        "model.add(Dense(total_words, activation='softmax'))\n",
        "# Pick an optimizer\n",
        "model.compile(loss='categorical_crossentropy', optimizer='adam', metrics=['accuracy'])\n",
        "print(model.summary())\n"
      ],
      "execution_count": 8,
      "outputs": [
        {
          "output_type": "stream",
          "text": [
            "Model: \"sequential_3\"\n",
            "_________________________________________________________________\n",
            "Layer (type)                 Output Shape              Param #   \n",
            "=================================================================\n",
            "embedding_3 (Embedding)      (None, 10, 64)            205504    \n",
            "_________________________________________________________________\n",
            "bidirectional_1 (Bidirection (None, 10, 300)           258000    \n",
            "_________________________________________________________________\n",
            "dropout_2 (Dropout)          (None, 10, 300)           0         \n",
            "_________________________________________________________________\n",
            "lstm_6 (LSTM)                (None, 150)               270600    \n",
            "_________________________________________________________________\n",
            "dense (Dense)                (None, 16)                2416      \n",
            "_________________________________________________________________\n",
            "dense_1 (Dense)              (None, 3211)              54587     \n",
            "=================================================================\n",
            "Total params: 791,107\n",
            "Trainable params: 791,107\n",
            "Non-trainable params: 0\n",
            "_________________________________________________________________\n",
            "None\n"
          ],
          "name": "stdout"
        }
      ]
    },
    {
      "cell_type": "code",
      "metadata": {
        "colab": {
          "base_uri": "https://localhost:8080/"
        },
        "id": "AIg2f1HBxqof",
        "outputId": "3644c43e-8837-4b10-93ac-ff7dcc91fb3b"
      },
      "source": [
        " history = model.fit(predictors, label, epochs=100, verbose=1)"
      ],
      "execution_count": 9,
      "outputs": [
        {
          "output_type": "stream",
          "text": [
            "Epoch 1/100\n",
            "484/484 [==============================] - 40s 13ms/step - loss: 7.2900 - accuracy: 0.0188\n",
            "Epoch 2/100\n",
            "484/484 [==============================] - 6s 13ms/step - loss: 6.6049 - accuracy: 0.0215\n",
            "Epoch 3/100\n",
            "484/484 [==============================] - 6s 13ms/step - loss: 6.5159 - accuracy: 0.0202\n",
            "Epoch 4/100\n",
            "484/484 [==============================] - 6s 13ms/step - loss: 6.4367 - accuracy: 0.0245\n",
            "Epoch 5/100\n",
            "484/484 [==============================] - 6s 13ms/step - loss: 6.4205 - accuracy: 0.0232\n",
            "Epoch 6/100\n",
            "484/484 [==============================] - 6s 13ms/step - loss: 6.3604 - accuracy: 0.0255\n",
            "Epoch 7/100\n",
            "484/484 [==============================] - 6s 13ms/step - loss: 6.3615 - accuracy: 0.0264\n",
            "Epoch 8/100\n",
            "484/484 [==============================] - 6s 13ms/step - loss: 6.3071 - accuracy: 0.0305\n",
            "Epoch 9/100\n",
            "484/484 [==============================] - 6s 13ms/step - loss: 6.2965 - accuracy: 0.0308\n",
            "Epoch 10/100\n",
            "484/484 [==============================] - 6s 13ms/step - loss: 6.2013 - accuracy: 0.0344\n",
            "Epoch 11/100\n",
            "484/484 [==============================] - 6s 13ms/step - loss: 6.1811 - accuracy: 0.0308\n",
            "Epoch 12/100\n",
            "484/484 [==============================] - 6s 13ms/step - loss: 6.1472 - accuracy: 0.0307\n",
            "Epoch 13/100\n",
            "484/484 [==============================] - 6s 13ms/step - loss: 6.1115 - accuracy: 0.0334\n",
            "Epoch 14/100\n",
            "484/484 [==============================] - 6s 13ms/step - loss: 6.0943 - accuracy: 0.0356\n",
            "Epoch 15/100\n",
            "484/484 [==============================] - 6s 13ms/step - loss: 6.0577 - accuracy: 0.0369\n",
            "Epoch 16/100\n",
            "484/484 [==============================] - 6s 13ms/step - loss: 6.0058 - accuracy: 0.0402\n",
            "Epoch 17/100\n",
            "484/484 [==============================] - 6s 13ms/step - loss: 5.9680 - accuracy: 0.0433\n",
            "Epoch 18/100\n",
            "484/484 [==============================] - 6s 13ms/step - loss: 5.9386 - accuracy: 0.0423\n",
            "Epoch 19/100\n",
            "484/484 [==============================] - 6s 13ms/step - loss: 5.9174 - accuracy: 0.0443\n",
            "Epoch 20/100\n",
            "484/484 [==============================] - 6s 13ms/step - loss: 5.9072 - accuracy: 0.0453\n",
            "Epoch 21/100\n",
            "484/484 [==============================] - 6s 13ms/step - loss: 5.8596 - accuracy: 0.0495\n",
            "Epoch 22/100\n",
            "484/484 [==============================] - 6s 13ms/step - loss: 5.8211 - accuracy: 0.0527\n",
            "Epoch 23/100\n",
            "484/484 [==============================] - 6s 13ms/step - loss: 5.8044 - accuracy: 0.0504\n",
            "Epoch 24/100\n",
            "484/484 [==============================] - 6s 13ms/step - loss: 5.7596 - accuracy: 0.0505\n",
            "Epoch 25/100\n",
            "484/484 [==============================] - 6s 13ms/step - loss: 5.7429 - accuracy: 0.0560\n",
            "Epoch 26/100\n",
            "484/484 [==============================] - 6s 13ms/step - loss: 5.7260 - accuracy: 0.0588\n",
            "Epoch 27/100\n",
            "484/484 [==============================] - 6s 13ms/step - loss: 5.6778 - accuracy: 0.0578\n",
            "Epoch 28/100\n",
            "484/484 [==============================] - 6s 13ms/step - loss: 5.6502 - accuracy: 0.0599\n",
            "Epoch 29/100\n",
            "484/484 [==============================] - 7s 14ms/step - loss: 5.6205 - accuracy: 0.0569\n",
            "Epoch 30/100\n",
            "484/484 [==============================] - 6s 13ms/step - loss: 5.5870 - accuracy: 0.0579\n",
            "Epoch 31/100\n",
            "484/484 [==============================] - 6s 13ms/step - loss: 5.5686 - accuracy: 0.0612\n",
            "Epoch 32/100\n",
            "484/484 [==============================] - 6s 13ms/step - loss: 5.5561 - accuracy: 0.0611\n",
            "Epoch 33/100\n",
            "484/484 [==============================] - 6s 13ms/step - loss: 5.5002 - accuracy: 0.0622\n",
            "Epoch 34/100\n",
            "484/484 [==============================] - 6s 13ms/step - loss: 5.4743 - accuracy: 0.0620\n",
            "Epoch 35/100\n",
            "484/484 [==============================] - 6s 13ms/step - loss: 5.4395 - accuracy: 0.0637\n",
            "Epoch 36/100\n",
            "484/484 [==============================] - 6s 13ms/step - loss: 5.3763 - accuracy: 0.0709\n",
            "Epoch 37/100\n",
            "484/484 [==============================] - 6s 13ms/step - loss: 5.3454 - accuracy: 0.0725\n",
            "Epoch 38/100\n",
            "484/484 [==============================] - 6s 13ms/step - loss: 5.3679 - accuracy: 0.0680\n",
            "Epoch 39/100\n",
            "484/484 [==============================] - 7s 13ms/step - loss: 5.3584 - accuracy: 0.0693\n",
            "Epoch 40/100\n",
            "484/484 [==============================] - 6s 13ms/step - loss: 5.2958 - accuracy: 0.0756\n",
            "Epoch 41/100\n",
            "484/484 [==============================] - 6s 13ms/step - loss: 5.2831 - accuracy: 0.0748\n",
            "Epoch 42/100\n",
            "484/484 [==============================] - 6s 13ms/step - loss: 5.2461 - accuracy: 0.0752\n",
            "Epoch 43/100\n",
            "484/484 [==============================] - 6s 13ms/step - loss: 5.2360 - accuracy: 0.0755\n",
            "Epoch 44/100\n",
            "484/484 [==============================] - 6s 13ms/step - loss: 5.1714 - accuracy: 0.0846\n",
            "Epoch 45/100\n",
            "484/484 [==============================] - 6s 13ms/step - loss: 5.1563 - accuracy: 0.0850\n",
            "Epoch 46/100\n",
            "484/484 [==============================] - 7s 14ms/step - loss: 5.1089 - accuracy: 0.0866\n",
            "Epoch 47/100\n",
            "484/484 [==============================] - 6s 13ms/step - loss: 5.1156 - accuracy: 0.0878\n",
            "Epoch 48/100\n",
            "484/484 [==============================] - 6s 13ms/step - loss: 5.1062 - accuracy: 0.0873\n",
            "Epoch 49/100\n",
            "484/484 [==============================] - 7s 13ms/step - loss: 5.0698 - accuracy: 0.0894\n",
            "Epoch 50/100\n",
            "484/484 [==============================] - 6s 13ms/step - loss: 5.0489 - accuracy: 0.0926\n",
            "Epoch 51/100\n",
            "484/484 [==============================] - 6s 13ms/step - loss: 5.0146 - accuracy: 0.0951\n",
            "Epoch 52/100\n",
            "484/484 [==============================] - 7s 14ms/step - loss: 4.9954 - accuracy: 0.0951\n",
            "Epoch 53/100\n",
            "484/484 [==============================] - 6s 13ms/step - loss: 4.9544 - accuracy: 0.0998\n",
            "Epoch 54/100\n",
            "484/484 [==============================] - 6s 13ms/step - loss: 4.9154 - accuracy: 0.1006\n",
            "Epoch 55/100\n",
            "484/484 [==============================] - 6s 13ms/step - loss: 4.9138 - accuracy: 0.1075\n",
            "Epoch 56/100\n",
            "484/484 [==============================] - 6s 13ms/step - loss: 4.8733 - accuracy: 0.1073\n",
            "Epoch 57/100\n",
            "484/484 [==============================] - 6s 13ms/step - loss: 4.8731 - accuracy: 0.1073\n",
            "Epoch 58/100\n",
            "484/484 [==============================] - 6s 13ms/step - loss: 4.7912 - accuracy: 0.1114\n",
            "Epoch 59/100\n",
            "484/484 [==============================] - 7s 14ms/step - loss: 4.8004 - accuracy: 0.1106\n",
            "Epoch 60/100\n",
            "484/484 [==============================] - 7s 13ms/step - loss: 4.7945 - accuracy: 0.1177\n",
            "Epoch 61/100\n",
            "484/484 [==============================] - 6s 13ms/step - loss: 4.7332 - accuracy: 0.1204\n",
            "Epoch 62/100\n",
            "484/484 [==============================] - 7s 13ms/step - loss: 4.7631 - accuracy: 0.1208\n",
            "Epoch 63/100\n",
            "484/484 [==============================] - 6s 13ms/step - loss: 4.7210 - accuracy: 0.1203\n",
            "Epoch 64/100\n",
            "484/484 [==============================] - 6s 13ms/step - loss: 4.7062 - accuracy: 0.1223\n",
            "Epoch 65/100\n",
            "484/484 [==============================] - 6s 13ms/step - loss: 4.6915 - accuracy: 0.1240\n",
            "Epoch 66/100\n",
            "484/484 [==============================] - 7s 13ms/step - loss: 4.6680 - accuracy: 0.1274\n",
            "Epoch 67/100\n",
            "484/484 [==============================] - 6s 13ms/step - loss: 4.6417 - accuracy: 0.1361\n",
            "Epoch 68/100\n",
            "484/484 [==============================] - 6s 13ms/step - loss: 4.6332 - accuracy: 0.1324\n",
            "Epoch 69/100\n",
            "484/484 [==============================] - 7s 14ms/step - loss: 4.5712 - accuracy: 0.1419\n",
            "Epoch 70/100\n",
            "484/484 [==============================] - 6s 13ms/step - loss: 4.5348 - accuracy: 0.1420\n",
            "Epoch 71/100\n",
            "484/484 [==============================] - 6s 13ms/step - loss: 4.5659 - accuracy: 0.1397\n",
            "Epoch 72/100\n",
            "484/484 [==============================] - 7s 14ms/step - loss: 4.5074 - accuracy: 0.1483\n",
            "Epoch 73/100\n",
            "484/484 [==============================] - 6s 13ms/step - loss: 4.4808 - accuracy: 0.1506\n",
            "Epoch 74/100\n",
            "484/484 [==============================] - 6s 13ms/step - loss: 4.4879 - accuracy: 0.1511\n",
            "Epoch 75/100\n",
            "484/484 [==============================] - 7s 13ms/step - loss: 4.4561 - accuracy: 0.1538\n",
            "Epoch 76/100\n",
            "484/484 [==============================] - 6s 13ms/step - loss: 4.4516 - accuracy: 0.1549\n",
            "Epoch 77/100\n",
            "484/484 [==============================] - 6s 13ms/step - loss: 4.4389 - accuracy: 0.1563\n",
            "Epoch 78/100\n",
            "484/484 [==============================] - 6s 13ms/step - loss: 4.3989 - accuracy: 0.1667\n",
            "Epoch 79/100\n",
            "484/484 [==============================] - 6s 13ms/step - loss: 4.4026 - accuracy: 0.1649\n",
            "Epoch 80/100\n",
            "484/484 [==============================] - 6s 13ms/step - loss: 4.3603 - accuracy: 0.1698\n",
            "Epoch 81/100\n",
            "484/484 [==============================] - 6s 13ms/step - loss: 4.3357 - accuracy: 0.1707\n",
            "Epoch 82/100\n",
            "484/484 [==============================] - 6s 13ms/step - loss: 4.3226 - accuracy: 0.1715\n",
            "Epoch 83/100\n",
            "484/484 [==============================] - 6s 13ms/step - loss: 4.3106 - accuracy: 0.1746\n",
            "Epoch 84/100\n",
            "484/484 [==============================] - 6s 13ms/step - loss: 4.3013 - accuracy: 0.1714\n",
            "Epoch 85/100\n",
            "484/484 [==============================] - 6s 13ms/step - loss: 4.2647 - accuracy: 0.1776\n",
            "Epoch 86/100\n",
            "484/484 [==============================] - 6s 13ms/step - loss: 4.2609 - accuracy: 0.1737\n",
            "Epoch 87/100\n",
            "484/484 [==============================] - 6s 13ms/step - loss: 4.2254 - accuracy: 0.1797\n",
            "Epoch 88/100\n",
            "484/484 [==============================] - 6s 13ms/step - loss: 4.1944 - accuracy: 0.1843\n",
            "Epoch 89/100\n",
            "484/484 [==============================] - 6s 13ms/step - loss: 4.1760 - accuracy: 0.1893\n",
            "Epoch 90/100\n",
            "484/484 [==============================] - 6s 13ms/step - loss: 4.1830 - accuracy: 0.1878\n",
            "Epoch 91/100\n",
            "484/484 [==============================] - 6s 13ms/step - loss: 4.1499 - accuracy: 0.1971\n",
            "Epoch 92/100\n",
            "484/484 [==============================] - 6s 13ms/step - loss: 4.1355 - accuracy: 0.1922\n",
            "Epoch 93/100\n",
            "484/484 [==============================] - 6s 13ms/step - loss: 4.1215 - accuracy: 0.1968\n",
            "Epoch 94/100\n",
            "484/484 [==============================] - 6s 13ms/step - loss: 4.1029 - accuracy: 0.1989\n",
            "Epoch 95/100\n",
            "484/484 [==============================] - 6s 13ms/step - loss: 4.0884 - accuracy: 0.2012\n",
            "Epoch 96/100\n",
            "484/484 [==============================] - 7s 13ms/step - loss: 4.1406 - accuracy: 0.1930\n",
            "Epoch 97/100\n",
            "484/484 [==============================] - 6s 13ms/step - loss: 4.0715 - accuracy: 0.2093\n",
            "Epoch 98/100\n",
            "484/484 [==============================] - 7s 13ms/step - loss: 4.0655 - accuracy: 0.2079\n",
            "Epoch 99/100\n",
            "484/484 [==============================] - 7s 13ms/step - loss: 4.0231 - accuracy: 0.2121\n",
            "Epoch 100/100\n",
            "484/484 [==============================] - 7s 14ms/step - loss: 3.9951 - accuracy: 0.2145\n"
          ],
          "name": "stdout"
        }
      ]
    },
    {
      "cell_type": "code",
      "metadata": {
        "colab": {
          "base_uri": "https://localhost:8080/",
          "height": 545
        },
        "id": "1fXTEO3GJ282",
        "outputId": "f789073a-0577-4b27-a15d-e2f366f1bb93"
      },
      "source": [
        "import matplotlib.pyplot as plt\n",
        "acc = history.history['accuracy']\n",
        "loss = history.history['loss']\n",
        "\n",
        "epochs = range(len(acc))\n",
        "\n",
        "plt.plot(epochs, acc, 'b', label='Training accuracy')\n",
        "plt.title('Training accuracy')\n",
        "\n",
        "plt.figure()\n",
        "\n",
        "plt.plot(epochs, loss, 'b', label='Training Loss')\n",
        "plt.title('Training loss')\n",
        "plt.legend()\n",
        "\n",
        "plt.show()"
      ],
      "execution_count": 10,
      "outputs": [
        {
          "output_type": "display_data",
          "data": {
            "image/png": "[encoded data removed]",
            "text/plain": [
              "<Figure size 432x288 with 1 Axes>"
            ]
          },
          "metadata": {
            "tags": [],
            "needs_background": "light"
          }
        },
        {
          "output_type": "display_data",
          "data": {
            "image/png": "[encoded data removed]",
            "text/plain": [
              "<Figure size 432x288 with 1 Axes>"
            ]
          },
          "metadata": {
            "tags": [],
            "needs_background": "light"
          }
        }
      ]
    },
    {
      "cell_type": "code",
      "metadata": {
        "colab": {
          "base_uri": "https://localhost:8080/"
        },
        "id": "6Vc6PHgxa6Hm",
        "outputId": "a9f471ed-8f57-4da3-e429-c56992702490"
      },
      "source": [
        "seed_text = \"Help me Obi Wan Kenobi, you're my only hope\"\n",
        "next_words = 100\n",
        "  \n",
        "for _ in range(next_words):\n",
        "\ttoken_list = tokenizer.texts_to_sequences([seed_text])[0]\n",
        "\ttoken_list = pad_sequences([token_list], maxlen=max_sequence_len-1, padding='pre')\n",
        "\tpredicted = model.predict_classes(token_list, verbose=0)\n",
        "\toutput_word = \"\"\n",
        "\tfor word, index in tokenizer.word_index.items():\n",
        "\t\tif index == predicted:\n",
        "\t\t\toutput_word = word\n",
        "\t\t\tbreak\n",
        "\tseed_text += \" \" + output_word\n",
        "print(seed_text)"
      ],
      "execution_count": 11,
      "outputs": [
        {
          "output_type": "stream",
          "text": [
            "/usr/local/lib/python3.7/dist-packages/tensorflow/python/keras/engine/sequential.py:450: UserWarning: `model.predict_classes()` is deprecated and will be removed after 2021-01-01. Please use instead:* `np.argmax(model.predict(x), axis=-1)`,   if your model does multi-class classification   (e.g. if it uses a `softmax` last-layer activation).* `(model.predict(x) > 0.5).astype(\"int32\")`,   if your model does binary classification   (e.g. if it uses a `sigmoid` last-layer activation).\n",
            "  warnings.warn('`model.predict_classes()` is deprecated and '\n"
          ],
          "name": "stderr"
        },
        {
          "output_type": "stream",
          "text": [
            "Help me Obi Wan Kenobi, you're my only hope of show my sight affords am make make love ' are hopes doth proved thee love are be gone are be gone not be are stay my story and true bright pride be bow than heaven's majesty part to all dark light thy verse did doom of show thee love not live go more hide thee be in thine ill be rich all love kind of the very buds of woe pride stay stay thou of buds and go your verse meet am go of cross ' doth prize thou shouldst sort hopes of endless sight add lie are love\n"
          ],
          "name": "stdout"
        }
      ]
    }
  ]
}